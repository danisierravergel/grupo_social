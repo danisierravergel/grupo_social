{
 "cells": [
  {
   "cell_type": "code",
   "execution_count": null,
   "id": "1e2cf4c7",
   "metadata": {},
   "outputs": [
    {
     "name": "stdout",
     "output_type": "stream",
     "text": [
      " * Serving Flask app '__main__' (lazy loading)\n",
      " * Environment: production\n",
      "\u001b[31m   WARNING: This is a development server. Do not use it in a production deployment.\u001b[0m\n",
      "\u001b[2m   Use a production WSGI server instead.\u001b[0m\n",
      " * Debug mode: off\n"
     ]
    },
    {
     "name": "stderr",
     "output_type": "stream",
     "text": [
      " * Running on all addresses.\n",
      "   WARNING: This is a development server. Do not use it in a production deployment.\n",
      " * Running on http://192.168.0.5:80/ (Press CTRL+C to quit)\n",
      "192.168.0.5 - - [13/Sep/2022 17:07:13] \"GET /echo?celular=987645 HTTP/1.1\" 200 -\n",
      "192.168.0.5 - - [13/Sep/2022 17:07:13] \"GET /static/styles.css HTTP/1.1\" 200 -\n",
      "192.168.0.5 - - [13/Sep/2022 17:07:13] \"GET /static/main.js HTTP/1.1\" 200 -\n",
      "192.168.0.5 - - [13/Sep/2022 17:07:13] \"GET /static/CRUD.js HTTP/1.1\" 200 -\n",
      "192.168.0.5 - - [13/Sep/2022 17:07:13] \"GET /static/canva.js HTTP/1.1\" 200 -\n",
      "192.168.0.5 - - [13/Sep/2022 17:07:23] \"POST /calcular HTTP/1.1\" 200 -\n"
     ]
    },
    {
     "name": "stdout",
     "output_type": "stream",
     "text": [
      "['1056251']\n",
      "1056251\n",
      "ModeResult(mode=array(['1056251'], dtype='<U7'), count=array([1]))\n",
      "<class 'scipy.stats.stats.ModeResult'>\n"
     ]
    }
   ],
   "source": [
    "from flask import Flask,jsonify,request,render_template, redirect, url_for\n",
    "from bs4 import BeautifulSoup\n",
    "import requests as rq\n",
    "from statistics import *\n",
    "from scipy import stats\n",
    "\n",
    "app = Flask(__name__)\n",
    "\n",
    "def todo():\n",
    "    url = 'https://www.datos.gov.co/browse?limitTo=datasets' #limitTo=datasets&sortBy=last_modified\n",
    "\n",
    "    page = rq.get(url)\n",
    "    soup = BeautifulSoup(page.content, 'html.parser')\n",
    "    todo = {}\n",
    "    \n",
    "    for a in soup.find_all('a', href=True , class_= 'browse2-result-name-link'): #listado de temas\n",
    "        link = a['href'].split(\"/\")\n",
    "        u = len(link)-1\n",
    "        link1 = link[u]\n",
    "        todo[link1]=a.text #9ssf-i6c5 \n",
    "    \n",
    "    return todo\n",
    "\n",
    "\n",
    "@app.route('/json',methods=[\"GET\"])\n",
    "def json():\n",
    "    todos2 = todo()\n",
    "    return jsonify(todos2) \n",
    "\n",
    "@app.route(\"/echo\", methods=[\"GET\"])\n",
    "def echo():\n",
    "    celular = request.args.get('celular', default=0, type=int)\n",
    "    if(celular == 123456):\n",
    "        return render_template('/admin.html', celular=celular)\n",
    "    if(celular == 0):\n",
    "        return render_template('/')\n",
    "    return render_template('/echo.html',  dat=todo(), celular=celular)\n",
    "\n",
    "@app.route('/calcular',methods=[\"POST\"])\n",
    "def calcular():\n",
    "    if request.method == 'POST':\n",
    "        data = request.form['columna']\n",
    "        data = data.split(',')\n",
    "        datass = []\n",
    "        for x in data:\n",
    "            datass.append(float(x))\n",
    "            \n",
    "        iqr = iqr = stats.iqr(datass, interpolation = 'midpoint') \n",
    "        mo = stats.mode(data)\n",
    "        print(mo.mode)\n",
    "        print(mo.mode[0])\n",
    "        resp = {'media':mean(datass),\n",
    "               'moda': float(mo.mode[0]),\n",
    "               'mediana':median(datass),\n",
    "               'st_dev':pstdev(datass),\n",
    "               'iqr':iqr,\n",
    "               'mini':min(datass),\n",
    "               'maxi':max(datass)} \n",
    "        print(stats.mode(data));\n",
    "        print(type(stats.mode(data)));\n",
    "    return resp\n",
    "\n",
    "@app.route(\"/\",methods = ['POST', 'GET'])\n",
    "def show_signup_form():\n",
    "    celular = 0\n",
    "    if request.method == 'POST':\n",
    "        celular = request.form['celular']\n",
    "        return redirect(url_for('echo', celular=celular))\n",
    "    else:\n",
    "        return render_template(\"form.html\", celular=celular)\n",
    "\n",
    "if __name__==\"__main__\":\n",
    "    app.run(host=\"0.0.0.0\",port=80)"
   ]
  },
  {
   "cell_type": "code",
   "execution_count": null,
   "id": "1c398b37",
   "metadata": {},
   "outputs": [],
   "source": []
  },
  {
   "cell_type": "code",
   "execution_count": null,
   "id": "1bcaee52",
   "metadata": {},
   "outputs": [],
   "source": []
  }
 ],
 "metadata": {
  "kernelspec": {
   "display_name": "Python 3 (ipykernel)",
   "language": "python",
   "name": "python3"
  },
  "language_info": {
   "codemirror_mode": {
    "name": "ipython",
    "version": 3
   },
   "file_extension": ".py",
   "mimetype": "text/x-python",
   "name": "python",
   "nbconvert_exporter": "python",
   "pygments_lexer": "ipython3",
   "version": "3.8.13"
  }
 },
 "nbformat": 4,
 "nbformat_minor": 5
}
